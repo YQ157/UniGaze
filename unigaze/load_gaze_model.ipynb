{
 "cells": [
  {
   "cell_type": "code",
   "execution_count": 1,
   "metadata": {},
   "outputs": [],
   "source": [
    "\n",
    "import os, sys\n",
    "import numpy as np\n",
    "import cv2\n",
    "import torch\n",
    "import torch.nn as nn\n",
    "import torch.nn.functional as F\n",
    "import matplotlib.pyplot as plt\n",
    "import numpy as np\n",
    "\n",
    "from utils import instantiate_from_cfg, save_files\n",
    "from utils.util import transform_date_str, set_seed\n",
    "import utils.misc as misc\n"
   ]
  },
  {
   "cell_type": "code",
   "execution_count": 4,
   "metadata": {},
   "outputs": [
    {
     "name": "stdout",
     "output_type": "stream",
     "text": [
      "Loaded custom pretrained weights from checkpoints/mae_b16/mae_b16_checkpoint-299.pth\n",
      "Loaded custom pretrained weights from checkpoints/mae_l16/mae_l16_checkpoint-299.pth\n"
     ]
    }
   ],
   "source": [
    "from models.vit.mae_gaze import MAE_Gaze\n",
    "\n",
    "mae_b16 = MAE_Gaze(model_type='vit_b_16', custom_pretrained_path='checkpoints/mae_b16/mae_b16_checkpoint-299.pth')\n",
    "mae_b16 = MAE_Gaze(model_type='vit_l_16', custom_pretrained_path='checkpoints/mae_l16/mae_l16_checkpoint-299.pth')\n",
    "mae_h14 = MAE_Gaze(model_type='vit_h_14', custom_pretrained_path='checkpoints/mae_h14/mae_h14_checkpoint-299.pth')\n"
   ]
  },
  {
   "cell_type": "code",
   "execution_count": 7,
   "metadata": {},
   "outputs": [
    {
     "name": "stdout",
     "output_type": "stream",
     "text": [
      "odict_keys(['vit.cls_token', 'vit.pos_embed', 'vit.patch_embed.proj.weight', 'vit.patch_embed.proj.bias', 'vit.blocks.0.norm1.weight', 'vit.blocks.0.norm1.bias', 'vit.blocks.0.attn.qkv.weight', 'vit.blocks.0.attn.qkv.bias', 'vit.blocks.0.attn.proj.weight', 'vit.blocks.0.attn.proj.bias', 'vit.blocks.0.norm2.weight', 'vit.blocks.0.norm2.bias', 'vit.blocks.0.mlp.fc1.weight', 'vit.blocks.0.mlp.fc1.bias', 'vit.blocks.0.mlp.fc2.weight', 'vit.blocks.0.mlp.fc2.bias', 'vit.blocks.1.norm1.weight', 'vit.blocks.1.norm1.bias', 'vit.blocks.1.attn.qkv.weight', 'vit.blocks.1.attn.qkv.bias', 'vit.blocks.1.attn.proj.weight', 'vit.blocks.1.attn.proj.bias', 'vit.blocks.1.norm2.weight', 'vit.blocks.1.norm2.bias', 'vit.blocks.1.mlp.fc1.weight', 'vit.blocks.1.mlp.fc1.bias', 'vit.blocks.1.mlp.fc2.weight', 'vit.blocks.1.mlp.fc2.bias', 'vit.blocks.2.norm1.weight', 'vit.blocks.2.norm1.bias', 'vit.blocks.2.attn.qkv.weight', 'vit.blocks.2.attn.qkv.bias', 'vit.blocks.2.attn.proj.weight', 'vit.blocks.2.attn.proj.bias', 'vit.blocks.2.norm2.weight', 'vit.blocks.2.norm2.bias', 'vit.blocks.2.mlp.fc1.weight', 'vit.blocks.2.mlp.fc1.bias', 'vit.blocks.2.mlp.fc2.weight', 'vit.blocks.2.mlp.fc2.bias', 'vit.blocks.3.norm1.weight', 'vit.blocks.3.norm1.bias', 'vit.blocks.3.attn.qkv.weight', 'vit.blocks.3.attn.qkv.bias', 'vit.blocks.3.attn.proj.weight', 'vit.blocks.3.attn.proj.bias', 'vit.blocks.3.norm2.weight', 'vit.blocks.3.norm2.bias', 'vit.blocks.3.mlp.fc1.weight', 'vit.blocks.3.mlp.fc1.bias', 'vit.blocks.3.mlp.fc2.weight', 'vit.blocks.3.mlp.fc2.bias', 'vit.blocks.4.norm1.weight', 'vit.blocks.4.norm1.bias', 'vit.blocks.4.attn.qkv.weight', 'vit.blocks.4.attn.qkv.bias', 'vit.blocks.4.attn.proj.weight', 'vit.blocks.4.attn.proj.bias', 'vit.blocks.4.norm2.weight', 'vit.blocks.4.norm2.bias', 'vit.blocks.4.mlp.fc1.weight', 'vit.blocks.4.mlp.fc1.bias', 'vit.blocks.4.mlp.fc2.weight', 'vit.blocks.4.mlp.fc2.bias', 'vit.blocks.5.norm1.weight', 'vit.blocks.5.norm1.bias', 'vit.blocks.5.attn.qkv.weight', 'vit.blocks.5.attn.qkv.bias', 'vit.blocks.5.attn.proj.weight', 'vit.blocks.5.attn.proj.bias', 'vit.blocks.5.norm2.weight', 'vit.blocks.5.norm2.bias', 'vit.blocks.5.mlp.fc1.weight', 'vit.blocks.5.mlp.fc1.bias', 'vit.blocks.5.mlp.fc2.weight', 'vit.blocks.5.mlp.fc2.bias', 'vit.blocks.6.norm1.weight', 'vit.blocks.6.norm1.bias', 'vit.blocks.6.attn.qkv.weight', 'vit.blocks.6.attn.qkv.bias', 'vit.blocks.6.attn.proj.weight', 'vit.blocks.6.attn.proj.bias', 'vit.blocks.6.norm2.weight', 'vit.blocks.6.norm2.bias', 'vit.blocks.6.mlp.fc1.weight', 'vit.blocks.6.mlp.fc1.bias', 'vit.blocks.6.mlp.fc2.weight', 'vit.blocks.6.mlp.fc2.bias', 'vit.blocks.7.norm1.weight', 'vit.blocks.7.norm1.bias', 'vit.blocks.7.attn.qkv.weight', 'vit.blocks.7.attn.qkv.bias', 'vit.blocks.7.attn.proj.weight', 'vit.blocks.7.attn.proj.bias', 'vit.blocks.7.norm2.weight', 'vit.blocks.7.norm2.bias', 'vit.blocks.7.mlp.fc1.weight', 'vit.blocks.7.mlp.fc1.bias', 'vit.blocks.7.mlp.fc2.weight', 'vit.blocks.7.mlp.fc2.bias', 'vit.blocks.8.norm1.weight', 'vit.blocks.8.norm1.bias', 'vit.blocks.8.attn.qkv.weight', 'vit.blocks.8.attn.qkv.bias', 'vit.blocks.8.attn.proj.weight', 'vit.blocks.8.attn.proj.bias', 'vit.blocks.8.norm2.weight', 'vit.blocks.8.norm2.bias', 'vit.blocks.8.mlp.fc1.weight', 'vit.blocks.8.mlp.fc1.bias', 'vit.blocks.8.mlp.fc2.weight', 'vit.blocks.8.mlp.fc2.bias', 'vit.blocks.9.norm1.weight', 'vit.blocks.9.norm1.bias', 'vit.blocks.9.attn.qkv.weight', 'vit.blocks.9.attn.qkv.bias', 'vit.blocks.9.attn.proj.weight', 'vit.blocks.9.attn.proj.bias', 'vit.blocks.9.norm2.weight', 'vit.blocks.9.norm2.bias', 'vit.blocks.9.mlp.fc1.weight', 'vit.blocks.9.mlp.fc1.bias', 'vit.blocks.9.mlp.fc2.weight', 'vit.blocks.9.mlp.fc2.bias', 'vit.blocks.10.norm1.weight', 'vit.blocks.10.norm1.bias', 'vit.blocks.10.attn.qkv.weight', 'vit.blocks.10.attn.qkv.bias', 'vit.blocks.10.attn.proj.weight', 'vit.blocks.10.attn.proj.bias', 'vit.blocks.10.norm2.weight', 'vit.blocks.10.norm2.bias', 'vit.blocks.10.mlp.fc1.weight', 'vit.blocks.10.mlp.fc1.bias', 'vit.blocks.10.mlp.fc2.weight', 'vit.blocks.10.mlp.fc2.bias', 'vit.blocks.11.norm1.weight', 'vit.blocks.11.norm1.bias', 'vit.blocks.11.attn.qkv.weight', 'vit.blocks.11.attn.qkv.bias', 'vit.blocks.11.attn.proj.weight', 'vit.blocks.11.attn.proj.bias', 'vit.blocks.11.norm2.weight', 'vit.blocks.11.norm2.bias', 'vit.blocks.11.mlp.fc1.weight', 'vit.blocks.11.mlp.fc1.bias', 'vit.blocks.11.mlp.fc2.weight', 'vit.blocks.11.mlp.fc2.bias', 'vit.blocks.12.norm1.weight', 'vit.blocks.12.norm1.bias', 'vit.blocks.12.attn.qkv.weight', 'vit.blocks.12.attn.qkv.bias', 'vit.blocks.12.attn.proj.weight', 'vit.blocks.12.attn.proj.bias', 'vit.blocks.12.norm2.weight', 'vit.blocks.12.norm2.bias', 'vit.blocks.12.mlp.fc1.weight', 'vit.blocks.12.mlp.fc1.bias', 'vit.blocks.12.mlp.fc2.weight', 'vit.blocks.12.mlp.fc2.bias', 'vit.blocks.13.norm1.weight', 'vit.blocks.13.norm1.bias', 'vit.blocks.13.attn.qkv.weight', 'vit.blocks.13.attn.qkv.bias', 'vit.blocks.13.attn.proj.weight', 'vit.blocks.13.attn.proj.bias', 'vit.blocks.13.norm2.weight', 'vit.blocks.13.norm2.bias', 'vit.blocks.13.mlp.fc1.weight', 'vit.blocks.13.mlp.fc1.bias', 'vit.blocks.13.mlp.fc2.weight', 'vit.blocks.13.mlp.fc2.bias', 'vit.blocks.14.norm1.weight', 'vit.blocks.14.norm1.bias', 'vit.blocks.14.attn.qkv.weight', 'vit.blocks.14.attn.qkv.bias', 'vit.blocks.14.attn.proj.weight', 'vit.blocks.14.attn.proj.bias', 'vit.blocks.14.norm2.weight', 'vit.blocks.14.norm2.bias', 'vit.blocks.14.mlp.fc1.weight', 'vit.blocks.14.mlp.fc1.bias', 'vit.blocks.14.mlp.fc2.weight', 'vit.blocks.14.mlp.fc2.bias', 'vit.blocks.15.norm1.weight', 'vit.blocks.15.norm1.bias', 'vit.blocks.15.attn.qkv.weight', 'vit.blocks.15.attn.qkv.bias', 'vit.blocks.15.attn.proj.weight', 'vit.blocks.15.attn.proj.bias', 'vit.blocks.15.norm2.weight', 'vit.blocks.15.norm2.bias', 'vit.blocks.15.mlp.fc1.weight', 'vit.blocks.15.mlp.fc1.bias', 'vit.blocks.15.mlp.fc2.weight', 'vit.blocks.15.mlp.fc2.bias', 'vit.blocks.16.norm1.weight', 'vit.blocks.16.norm1.bias', 'vit.blocks.16.attn.qkv.weight', 'vit.blocks.16.attn.qkv.bias', 'vit.blocks.16.attn.proj.weight', 'vit.blocks.16.attn.proj.bias', 'vit.blocks.16.norm2.weight', 'vit.blocks.16.norm2.bias', 'vit.blocks.16.mlp.fc1.weight', 'vit.blocks.16.mlp.fc1.bias', 'vit.blocks.16.mlp.fc2.weight', 'vit.blocks.16.mlp.fc2.bias', 'vit.blocks.17.norm1.weight', 'vit.blocks.17.norm1.bias', 'vit.blocks.17.attn.qkv.weight', 'vit.blocks.17.attn.qkv.bias', 'vit.blocks.17.attn.proj.weight', 'vit.blocks.17.attn.proj.bias', 'vit.blocks.17.norm2.weight', 'vit.blocks.17.norm2.bias', 'vit.blocks.17.mlp.fc1.weight', 'vit.blocks.17.mlp.fc1.bias', 'vit.blocks.17.mlp.fc2.weight', 'vit.blocks.17.mlp.fc2.bias', 'vit.blocks.18.norm1.weight', 'vit.blocks.18.norm1.bias', 'vit.blocks.18.attn.qkv.weight', 'vit.blocks.18.attn.qkv.bias', 'vit.blocks.18.attn.proj.weight', 'vit.blocks.18.attn.proj.bias', 'vit.blocks.18.norm2.weight', 'vit.blocks.18.norm2.bias', 'vit.blocks.18.mlp.fc1.weight', 'vit.blocks.18.mlp.fc1.bias', 'vit.blocks.18.mlp.fc2.weight', 'vit.blocks.18.mlp.fc2.bias', 'vit.blocks.19.norm1.weight', 'vit.blocks.19.norm1.bias', 'vit.blocks.19.attn.qkv.weight', 'vit.blocks.19.attn.qkv.bias', 'vit.blocks.19.attn.proj.weight', 'vit.blocks.19.attn.proj.bias', 'vit.blocks.19.norm2.weight', 'vit.blocks.19.norm2.bias', 'vit.blocks.19.mlp.fc1.weight', 'vit.blocks.19.mlp.fc1.bias', 'vit.blocks.19.mlp.fc2.weight', 'vit.blocks.19.mlp.fc2.bias', 'vit.blocks.20.norm1.weight', 'vit.blocks.20.norm1.bias', 'vit.blocks.20.attn.qkv.weight', 'vit.blocks.20.attn.qkv.bias', 'vit.blocks.20.attn.proj.weight', 'vit.blocks.20.attn.proj.bias', 'vit.blocks.20.norm2.weight', 'vit.blocks.20.norm2.bias', 'vit.blocks.20.mlp.fc1.weight', 'vit.blocks.20.mlp.fc1.bias', 'vit.blocks.20.mlp.fc2.weight', 'vit.blocks.20.mlp.fc2.bias', 'vit.blocks.21.norm1.weight', 'vit.blocks.21.norm1.bias', 'vit.blocks.21.attn.qkv.weight', 'vit.blocks.21.attn.qkv.bias', 'vit.blocks.21.attn.proj.weight', 'vit.blocks.21.attn.proj.bias', 'vit.blocks.21.norm2.weight', 'vit.blocks.21.norm2.bias', 'vit.blocks.21.mlp.fc1.weight', 'vit.blocks.21.mlp.fc1.bias', 'vit.blocks.21.mlp.fc2.weight', 'vit.blocks.21.mlp.fc2.bias', 'vit.blocks.22.norm1.weight', 'vit.blocks.22.norm1.bias', 'vit.blocks.22.attn.qkv.weight', 'vit.blocks.22.attn.qkv.bias', 'vit.blocks.22.attn.proj.weight', 'vit.blocks.22.attn.proj.bias', 'vit.blocks.22.norm2.weight', 'vit.blocks.22.norm2.bias', 'vit.blocks.22.mlp.fc1.weight', 'vit.blocks.22.mlp.fc1.bias', 'vit.blocks.22.mlp.fc2.weight', 'vit.blocks.22.mlp.fc2.bias', 'vit.blocks.23.norm1.weight', 'vit.blocks.23.norm1.bias', 'vit.blocks.23.attn.qkv.weight', 'vit.blocks.23.attn.qkv.bias', 'vit.blocks.23.attn.proj.weight', 'vit.blocks.23.attn.proj.bias', 'vit.blocks.23.norm2.weight', 'vit.blocks.23.norm2.bias', 'vit.blocks.23.mlp.fc1.weight', 'vit.blocks.23.mlp.fc1.bias', 'vit.blocks.23.mlp.fc2.weight', 'vit.blocks.23.mlp.fc2.bias', 'vit.blocks.24.norm1.weight', 'vit.blocks.24.norm1.bias', 'vit.blocks.24.attn.qkv.weight', 'vit.blocks.24.attn.qkv.bias', 'vit.blocks.24.attn.proj.weight', 'vit.blocks.24.attn.proj.bias', 'vit.blocks.24.norm2.weight', 'vit.blocks.24.norm2.bias', 'vit.blocks.24.mlp.fc1.weight', 'vit.blocks.24.mlp.fc1.bias', 'vit.blocks.24.mlp.fc2.weight', 'vit.blocks.24.mlp.fc2.bias', 'vit.blocks.25.norm1.weight', 'vit.blocks.25.norm1.bias', 'vit.blocks.25.attn.qkv.weight', 'vit.blocks.25.attn.qkv.bias', 'vit.blocks.25.attn.proj.weight', 'vit.blocks.25.attn.proj.bias', 'vit.blocks.25.norm2.weight', 'vit.blocks.25.norm2.bias', 'vit.blocks.25.mlp.fc1.weight', 'vit.blocks.25.mlp.fc1.bias', 'vit.blocks.25.mlp.fc2.weight', 'vit.blocks.25.mlp.fc2.bias', 'vit.blocks.26.norm1.weight', 'vit.blocks.26.norm1.bias', 'vit.blocks.26.attn.qkv.weight', 'vit.blocks.26.attn.qkv.bias', 'vit.blocks.26.attn.proj.weight', 'vit.blocks.26.attn.proj.bias', 'vit.blocks.26.norm2.weight', 'vit.blocks.26.norm2.bias', 'vit.blocks.26.mlp.fc1.weight', 'vit.blocks.26.mlp.fc1.bias', 'vit.blocks.26.mlp.fc2.weight', 'vit.blocks.26.mlp.fc2.bias', 'vit.blocks.27.norm1.weight', 'vit.blocks.27.norm1.bias', 'vit.blocks.27.attn.qkv.weight', 'vit.blocks.27.attn.qkv.bias', 'vit.blocks.27.attn.proj.weight', 'vit.blocks.27.attn.proj.bias', 'vit.blocks.27.norm2.weight', 'vit.blocks.27.norm2.bias', 'vit.blocks.27.mlp.fc1.weight', 'vit.blocks.27.mlp.fc1.bias', 'vit.blocks.27.mlp.fc2.weight', 'vit.blocks.27.mlp.fc2.bias', 'vit.blocks.28.norm1.weight', 'vit.blocks.28.norm1.bias', 'vit.blocks.28.attn.qkv.weight', 'vit.blocks.28.attn.qkv.bias', 'vit.blocks.28.attn.proj.weight', 'vit.blocks.28.attn.proj.bias', 'vit.blocks.28.norm2.weight', 'vit.blocks.28.norm2.bias', 'vit.blocks.28.mlp.fc1.weight', 'vit.blocks.28.mlp.fc1.bias', 'vit.blocks.28.mlp.fc2.weight', 'vit.blocks.28.mlp.fc2.bias', 'vit.blocks.29.norm1.weight', 'vit.blocks.29.norm1.bias', 'vit.blocks.29.attn.qkv.weight', 'vit.blocks.29.attn.qkv.bias', 'vit.blocks.29.attn.proj.weight', 'vit.blocks.29.attn.proj.bias', 'vit.blocks.29.norm2.weight', 'vit.blocks.29.norm2.bias', 'vit.blocks.29.mlp.fc1.weight', 'vit.blocks.29.mlp.fc1.bias', 'vit.blocks.29.mlp.fc2.weight', 'vit.blocks.29.mlp.fc2.bias', 'vit.blocks.30.norm1.weight', 'vit.blocks.30.norm1.bias', 'vit.blocks.30.attn.qkv.weight', 'vit.blocks.30.attn.qkv.bias', 'vit.blocks.30.attn.proj.weight', 'vit.blocks.30.attn.proj.bias', 'vit.blocks.30.norm2.weight', 'vit.blocks.30.norm2.bias', 'vit.blocks.30.mlp.fc1.weight', 'vit.blocks.30.mlp.fc1.bias', 'vit.blocks.30.mlp.fc2.weight', 'vit.blocks.30.mlp.fc2.bias', 'vit.blocks.31.norm1.weight', 'vit.blocks.31.norm1.bias', 'vit.blocks.31.attn.qkv.weight', 'vit.blocks.31.attn.qkv.bias', 'vit.blocks.31.attn.proj.weight', 'vit.blocks.31.attn.proj.bias', 'vit.blocks.31.norm2.weight', 'vit.blocks.31.norm2.bias', 'vit.blocks.31.mlp.fc1.weight', 'vit.blocks.31.mlp.fc1.bias', 'vit.blocks.31.mlp.fc2.weight', 'vit.blocks.31.mlp.fc2.bias', 'vit.norm.weight', 'vit.norm.bias', 'vit.head.weight', 'vit.head.bias', 'gaze_fc.weight', 'gaze_fc.bias'])\n"
     ]
    },
    {
     "data": {
      "text/plain": [
       "<All keys matched successfully>"
      ]
     },
     "execution_count": 7,
     "metadata": {},
     "output_type": "execute_result"
    }
   ],
   "source": [
    "mae_h14_crossX = '/home/jqin/wk/TUD/UniGaze/unigaze/logs/mae_H14_cross_X_onecycle_6epochs/20-30-35_seed42_3a8c7a62_rank0/ckpt/epoch_06.pth.tar'\n",
    "\n",
    "\n",
    "model_state = torch.load(mae_h14_crossX, map_location='cpu')['model_state']\n",
    "if next(iter(model_state.keys())).startswith('module.'):\n",
    "    model_state = dict([(k[7:], v) for k, v in model_state.items()])\n",
    "\n",
    "print(model_state.keys())\n",
    "mae_h14.load_state_dict(model_state, strict=True)"
   ]
  },
  {
   "cell_type": "code",
   "execution_count": 13,
   "metadata": {},
   "outputs": [],
   "source": [
    "def clean_ckpt(ckpt_input, ckpt_output):\n",
    "    model_state = torch.load(ckpt_input, map_location='cpu')['model_state']\n",
    "    if next(iter(model_state.keys())).startswith('module.'):\n",
    "        model_state = dict([(k[7:], v) for k, v in model_state.items()])\n",
    "    torch.save({'model_state':model_state},\n",
    "                ckpt_output)"
   ]
  },
  {
   "cell_type": "code",
   "execution_count": 8,
   "metadata": {},
   "outputs": [],
   "source": [
    "unigaze_b16 = MAE_Gaze(model_type='vit_b_16')"
   ]
  },
  {
   "cell_type": "code",
   "execution_count": 9,
   "metadata": {},
   "outputs": [],
   "source": []
  },
  {
   "cell_type": "code",
   "execution_count": 11,
   "metadata": {},
   "outputs": [],
   "source": []
  },
  {
   "cell_type": "code",
   "execution_count": 12,
   "metadata": {},
   "outputs": [],
   "source": []
  },
  {
   "cell_type": "code",
   "execution_count": null,
   "metadata": {},
   "outputs": [],
   "source": []
  }
 ],
 "metadata": {
  "kernelspec": {
   "display_name": "ldm_red",
   "language": "python",
   "name": "python3"
  },
  "language_info": {
   "codemirror_mode": {
    "name": "ipython",
    "version": 3
   },
   "file_extension": ".py",
   "mimetype": "text/x-python",
   "name": "python",
   "nbconvert_exporter": "python",
   "pygments_lexer": "ipython3",
   "version": "3.8.19"
  }
 },
 "nbformat": 4,
 "nbformat_minor": 2
}
